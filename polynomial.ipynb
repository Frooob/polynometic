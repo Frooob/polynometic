{
 "cells": [
  {
   "cell_type": "code",
   "execution_count": null,
   "metadata": {
    "scrolled": true
   },
   "outputs": [],
   "source": [
    "from copy import deepcopy\n",
    "import random \n",
    "\n",
    "import matplotlib.pyplot as plt\n",
    "import numpy as np\n",
    "import sympy as sp\n",
    "from sympy.abc import x\n",
    "\n",
    "from fit_functions import simulate_generation, simulate_first_generation, loss_polynomial, polynomial_simulation, get_config, generate_scatter, simulate_polynomial, simulate_gridsearch, parse_config\n",
    "import selection_functions\n",
    "import recombination_functions\n",
    "import mutation_functions\n",
    "from plotting import plot_generation\n",
    "%matplotlib widget\n",
    "\n",
    "import bokeh.io\n",
    "\n",
    "bokeh.io.reset_output()\n",
    "bokeh.io.output_notebook()"
   ]
  },
  {
   "cell_type": "code",
   "execution_count": null,
   "metadata": {},
   "outputs": [],
   "source": [
    "num_generations = 20\n",
    "candidates_after_generation = 100\n",
    "survivors_per_generation = 20\n",
    "recombination_parents = 2\n",
    "\n",
    "selection_function=selection_functions.deterministic_truncation\n",
    "recombination_function=recombination_functions.swap_random_parameters\n",
    "mutation_function=mutation_functions.mutate_cooling\n",
    "\n",
    "elitist = 0\n",
    "first_mutation_rate = 0.05\n",
    "mutation_cooldown = 5\n",
    "\n",
    "\n",
    "coefficient_min = -20\n",
    "coefficient_max = 20\n",
    "polynomial_grade = 4 # needs only to be set if gui is not used to generate polynomial\n",
    "\n",
    "x_min = -100\n",
    "x_max = 100\n",
    "y_min = -100  # only for displaying in first graph\n",
    "y_max = 100  # only for displaying in first graph\n",
    "size = 1000\n",
    "x = np.linspace(x_min, x_max, size)"
   ]
  },
  {
   "cell_type": "code",
   "execution_count": null,
   "metadata": {},
   "outputs": [],
   "source": [
    "import ipywidgets as widgets\n",
    "from IPython.display import display\n",
    "\n",
    "degree_widget = widgets.IntSlider(2,1,6,description='Grad des Polynoms:', style={'description_width': 'initial'})\n",
    "\n",
    "display(degree_widget)"
   ]
  },
  {
   "cell_type": "code",
   "execution_count": null,
   "metadata": {},
   "outputs": [],
   "source": [
    "polynomial_grade = degree_widget.value\n",
    "\n",
    "coefficient_widgets = []\n",
    "\n",
    "for degree in range(polynomial_grade):\n",
    "    coefficient_widget = widgets.FloatSlider(value=1,min=coefficient_min,max=coefficient_max,description='Grad %s:'%degree)\n",
    "    coefficient_widgets.append(coefficient_widget)\n",
    "    display(coefficient_widget)\n",
    "    \n",
    "polynom = np.polynomial.polynomial.Polynomial([coefficient.value for coefficient in coefficient_widgets])\n",
    "\n",
    "fig, ax = plt.subplots()\n",
    "plt.title('Plotting: %s'%polynom)\n",
    "plt.xlim(x_min, x_max)\n",
    "plt.ylim(y_min, y_max)\n",
    "\n",
    "\n",
    "lines = plt.plot(x, polynom(x))    \n",
    "\n",
    "def update_polynomial(change):\n",
    "    polynom.coef=[coefficient.value for coefficient in coefficient_widgets]\n",
    "    plt.title('Plotting: %s'%polynom)\n",
    "    lines[0].set_data(x, polynom(x))\n",
    "\n",
    "    fig.canvas.draw()\n",
    "    fig.canvas.flush_events()\n",
    "    \n",
    "for coefficient_widget in coefficient_widgets:\n",
    "    coefficient_widget.observe(update_polynomial, names='value')\n"
   ]
  },
  {
   "cell_type": "code",
   "execution_count": null,
   "metadata": {},
   "outputs": [],
   "source": [
    "scatter_multiplier_widget = widgets.FloatSlider(value=0.01,min=0.01,max=20,description='scatter')\n",
    "display(scatter_multiplier_widget)\n",
    "\n",
    "\n",
    "scatter_y = generate_scatter(polynom, x, scatter_multiplier=10)\n",
    "\n",
    "fig = plt.figure()\n",
    "scatterplot = plt.scatter(x, scatter_y)\n",
    "plt.show()\n",
    "\n",
    "\n",
    "def update_polynomial(change):\n",
    "    new_multiplier = scatter_multiplier_widget.value\n",
    "    y = generate_scatter(polynom, x, scatter_multiplier=new_multiplier)\n",
    "    scatterplot.set_offsets(np.c_[x,y])\n",
    "\n",
    "    fig.canvas.draw()\n",
    "    fig.canvas.flush_events()\n",
    "    \n",
    "scatter_multiplier_widget.observe(update_polynomial, names='value')"
   ]
  },
  {
   "cell_type": "code",
   "execution_count": null,
   "metadata": {},
   "outputs": [],
   "source": [
    "simuparams = (\n",
    "    polynomial_grade,\n",
    "    coefficient_min,\n",
    "    coefficient_max,\n",
    "    x,\n",
    "    scatter_y,\n",
    "    num_generations,\n",
    "    survivors_per_generation, \n",
    "    candidates_after_generation,  \n",
    "    selection_function, \n",
    "    recombination_function, \n",
    "    mutation_function,\n",
    "    elitist,\n",
    "    recombination_parents, \n",
    "    first_mutation_rate)\n",
    "\n",
    "config = get_config(*simuparams)\n",
    "\n",
    "simudata, best_polynomial = polynomial_simulation(*simuparams,config,save_plots = True, cooldown = mutation_cooldown)"
   ]
  },
  {
   "cell_type": "code",
   "execution_count": null,
   "metadata": {},
   "outputs": [],
   "source": [
    "import ipywidgets as wg\n",
    "from IPython.display import Image\n",
    "\n",
    "def display_simulation(x):\n",
    "    return Image(filename=f'./plots/{config}/generation_{x}.png') \n",
    "\n",
    "wg.interact(display_simulation, x=wg.IntSlider(min=0,max=num_generations-1,step=1));"
   ]
  },
  {
   "cell_type": "code",
   "execution_count": null,
   "metadata": {},
   "outputs": [],
   "source": [
    "from bokeh.plotting import figure, output_file, show\n",
    "from bokeh.plotting import figure\n",
    "\n",
    "p = figure(plot_width=400, plot_height=400, tools='pan,ywheel_zoom', active_scroll='ywheel_zoom')\n",
    "p.line(list(range(num_generations)),simudata )\n",
    "show(p)"
   ]
  },
  {
   "cell_type": "code",
   "execution_count": null,
   "metadata": {},
   "outputs": [],
   "source": [
    "polynom"
   ]
  },
  {
   "cell_type": "code",
   "execution_count": null,
   "metadata": {},
   "outputs": [],
   "source": [
    "best_polynomial"
   ]
  },
  {
   "cell_type": "code",
   "execution_count": null,
   "metadata": {},
   "outputs": [],
   "source": []
  }
 ],
 "metadata": {
  "kernelspec": {
   "display_name": "Python 3",
   "language": "python",
   "name": "python3"
  },
  "language_info": {
   "codemirror_mode": {
    "name": "ipython",
    "version": 3
   },
   "file_extension": ".py",
   "mimetype": "text/x-python",
   "name": "python",
   "nbconvert_exporter": "python",
   "pygments_lexer": "ipython3",
   "version": "3.9.1"
  }
 },
 "nbformat": 4,
 "nbformat_minor": 4
}